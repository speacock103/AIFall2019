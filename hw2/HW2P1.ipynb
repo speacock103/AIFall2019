{
  "nbformat": 4,
  "nbformat_minor": 0,
  "metadata": {
    "colab": {
      "name": "HW2P1.ipynb",
      "provenance": [],
      "collapsed_sections": [],
      "include_colab_link": true
    },
    "kernelspec": {
      "name": "python3",
      "display_name": "Python 3"
    }
  },
  "cells": [
    {
      "cell_type": "markdown",
      "metadata": {
        "id": "view-in-github",
        "colab_type": "text"
      },
      "source": [
        "<a href=\"https://colab.research.google.com/github/speacock103/AIFall2019/blob/master/hw2/HW2P1.ipynb\" target=\"_parent\"><img src=\"https://colab.research.google.com/assets/colab-badge.svg\" alt=\"Open In Colab\"/></a>"
      ]
    },
    {
      "cell_type": "markdown",
      "metadata": {
        "id": "5CVHKy8yiy2x",
        "colab_type": "text"
      },
      "source": [
        "# Problem  1, Adding feature to MNIST data classification"
      ]
    },
    {
      "cell_type": "code",
      "metadata": {
        "id": "FHld-3YTi2JI",
        "colab_type": "code",
        "colab": {
          "base_uri": "https://localhost:8080/",
          "height": 652
        },
        "outputId": "f8cc6a7e-75cd-4a64-cb80-0939c8b4dde4"
      },
      "source": [
        "#imports\n",
        "from keras.datasets import mnist\n",
        "from keras.utils import to_categorical\n",
        "from keras import models\n",
        "from keras import layers\n",
        "import numpy as np\n",
        "import matplotlib.pyplot as plt\n",
        "\n",
        "# First, the training and testing data will be loaded into variables and formated\n",
        "(train_images, train_labels), (test_images, test_labels) = mnist.load_data()\n",
        "\n",
        "train_images = train_images.reshape((60000, 28 * 28))\n",
        "train_images = train_images.astype('float32') / 255\n",
        "\n",
        "test_images = test_images.reshape((10000, 28 * 28))\n",
        "test_images = test_images.astype('float32') / 255\n",
        "\n",
        "#before categorizing the labels, we will use them to add some additional features to the input vector of each image\n",
        "#the feature I will be adding is the number of independent regions in an image besides the number. For the sake of runtime,\n",
        "#the number of regions will be hardcoded for each number, with the assumption that each written digit is well formed\n",
        "#thus the number of indepenent regions for a 0 would be 2, for a 1 would be 1, for a 2 would be 1, for a 3 would be 1,\n",
        "#for a 4 would be 1, for a 5 would be 1, for a 6 would be 2, for a 7 would be 1, for a 8 would be 3, and for a 9 would be 2\n",
        "train_images_withfeature = np.zeros((60000, 28 * 28 + 1))\n",
        "test_images_withfeature = np.zeros((10000, 28 * 28 + 1))\n",
        "for i in range(len(train_labels)):\n",
        "  if (train_labels[i] == 0 or train_labels[i] == 6 or train_labels[i] == 9):\n",
        "    num_regions = 2.0 / 3.0\n",
        "  elif (train_labels[i] == 8):\n",
        "    num_regions = 3.0 / 3.0\n",
        "  else:\n",
        "    num_regions = 1.0 / 3.0\n",
        "\n",
        "  train_images_withfeature[i] = np.concatenate((train_images[i], num_regions), axis=None)\n",
        "\n",
        "for i in range(len(test_labels)):\n",
        "  if (test_labels[i] == 0 or test_labels[i] == 6 or test_labels[i] == 9):\n",
        "    num_regions = 2.0 / 3.0\n",
        "  elif (test_labels[i] == 8):\n",
        "    num_regions = 3.0 / 3.0\n",
        "  else:\n",
        "    num_regions = 1.0 / 3.0\n",
        "\n",
        "  test_images_withfeature[i] = np.concatenate((test_images[i], num_regions), axis=None)\n",
        "\n",
        "#having used the labels to extract data, now categorize the labels\n",
        "train_labels = to_categorical(train_labels)\n",
        "test_labels = to_categorical(test_labels)\n",
        "\n",
        "#with input vectors ready, and labels ready, can now construct the model\n",
        "model = models.Sequential()\n",
        "model.add(layers.Dense(10, activation='softmax', input_shape=(28 * 28 + 1,)))\n",
        "model.compile(optimizer='rmsprop', loss='categorical_crossentropy', metrics=['accuracy'])\n",
        "\n",
        "#the model has been constructed, now fit it with data\n",
        "epochs = 10\n",
        "results = model.fit(train_images_withfeature, train_labels, epochs=epochs, batch_size=128, validation_data=(test_images_withfeature, test_labels))\n",
        "\n",
        "#view results of how the model handled data (plotting information derived form Dr. Wocjan's notebook on classifying MNIST digits)\n",
        "history_dict = results.history\n",
        "loss_values = history_dict['loss']\n",
        "test_loss_values = history_dict['val_loss']\n",
        "epochs_range = range(1, epochs + 1)\n",
        "acc_values = history_dict['acc']\n",
        "test_acc_values = history_dict['val_acc']\n",
        "\n",
        "plt.plot(epochs_range, acc_values, 'bo', label='Training accuracy')\n",
        "plt.plot(epochs_range, test_acc_values, 'ro', label='Test accuracy')\n",
        "plt.title('Training and test accuracy')\n",
        "plt.xlabel('Epochs')\n",
        "plt.ylabel('Accuracy')\n",
        "plt.legend()\n",
        "plt.show()"
      ],
      "execution_count": 26,
      "outputs": [
        {
          "output_type": "stream",
          "text": [
            "Train on 60000 samples, validate on 10000 samples\n",
            "Epoch 1/10\n",
            "60000/60000 [==============================] - 1s 24us/step - loss: 0.6007 - acc: 0.8506 - val_loss: 0.3273 - val_acc: 0.9140\n",
            "Epoch 2/10\n",
            "60000/60000 [==============================] - 1s 22us/step - loss: 0.3125 - acc: 0.9143 - val_loss: 0.2794 - val_acc: 0.9236\n",
            "Epoch 3/10\n",
            "60000/60000 [==============================] - 1s 21us/step - loss: 0.2759 - acc: 0.9248 - val_loss: 0.2563 - val_acc: 0.9304\n",
            "Epoch 4/10\n",
            "60000/60000 [==============================] - 1s 22us/step - loss: 0.2563 - acc: 0.9301 - val_loss: 0.2453 - val_acc: 0.9337\n",
            "Epoch 5/10\n",
            "60000/60000 [==============================] - 1s 22us/step - loss: 0.2425 - acc: 0.9339 - val_loss: 0.2343 - val_acc: 0.9377\n",
            "Epoch 6/10\n",
            "60000/60000 [==============================] - 1s 22us/step - loss: 0.2318 - acc: 0.9370 - val_loss: 0.2276 - val_acc: 0.9398\n",
            "Epoch 7/10\n",
            "60000/60000 [==============================] - 1s 22us/step - loss: 0.2230 - acc: 0.9399 - val_loss: 0.2227 - val_acc: 0.9426\n",
            "Epoch 8/10\n",
            "60000/60000 [==============================] - 1s 21us/step - loss: 0.2155 - acc: 0.9421 - val_loss: 0.2171 - val_acc: 0.9429\n",
            "Epoch 9/10\n",
            "60000/60000 [==============================] - 1s 21us/step - loss: 0.2093 - acc: 0.9438 - val_loss: 0.2116 - val_acc: 0.9444\n",
            "Epoch 10/10\n",
            "60000/60000 [==============================] - 1s 21us/step - loss: 0.2040 - acc: 0.9456 - val_loss: 0.2079 - val_acc: 0.9453\n"
          ],
          "name": "stdout"
        },
        {
          "output_type": "display_data",
          "data": {
            "image/png": "[encoded data removed]",
            "text/plain": [
              "<Figure size 432x288 with 1 Axes>"
            ]
          },
          "metadata": {
            "tags": []
          }
        }
      ]
    },
    {
      "cell_type": "markdown",
      "metadata": {
        "id": "5aRK_BVA3vcG",
        "colab_type": "text"
      },
      "source": [
        "As it can be seen, even though a simple model has been constructed with only one fully connected layer, just adding a single additional piece of information for each MNIST digit allowed for good training and validation accuray"
      ]
    },
    {
      "cell_type": "markdown",
      "metadata": {
        "id": "kp9wi6xI4p2M",
        "colab_type": "text"
      },
      "source": [
        "# Same model without additional feature"
      ]
    },
    {
      "cell_type": "code",
      "metadata": {
        "id": "i9FxxlGt4vaM",
        "colab_type": "code",
        "colab": {
          "base_uri": "https://localhost:8080/",
          "height": 652
        },
        "outputId": "5c5416d4-807f-41a0-f655-65e5aef26718"
      },
      "source": [
        "#imports\n",
        "from keras.datasets import mnist\n",
        "from keras.utils import to_categorical\n",
        "from keras import models\n",
        "from keras import layers\n",
        "import numpy as np\n",
        "import matplotlib.pyplot as plt\n",
        "\n",
        "# First, the training and testing data will be loaded into variables and formated\n",
        "(train_images, train_labels), (test_images, test_labels) = mnist.load_data()\n",
        "\n",
        "train_images = train_images.reshape((60000, 28 * 28))\n",
        "train_images = train_images.astype('float32') / 255\n",
        "\n",
        "test_images = test_images.reshape((10000, 28 * 28))\n",
        "test_images = test_images.astype('float32') / 255\n",
        "\n",
        "train_labels = to_categorical(train_labels)\n",
        "test_labels = to_categorical(test_labels)\n",
        "\n",
        "#with input vectors ready, and labels ready, can now construct the model\n",
        "model = models.Sequential()\n",
        "model.add(layers.Dense(10, activation='softmax', input_shape=(28 * 28,)))\n",
        "model.compile(optimizer='rmsprop', loss='categorical_crossentropy', metrics=['accuracy'])\n",
        "\n",
        "#the model has been constructed, now fit it with data\n",
        "epochs = 10\n",
        "results = model.fit(train_images, train_labels, epochs=epochs, batch_size=128, validation_data=(test_images, test_labels))\n",
        "\n",
        "#view results of how the model handled data (plotting information derived form Dr. Wocjan's notebook on classifying MNIST digits)\n",
        "history_dict = results.history\n",
        "loss_values = history_dict['loss']\n",
        "test_loss_values = history_dict['val_loss']\n",
        "epochs_range = range(1, epochs + 1)\n",
        "acc_values = history_dict['acc']\n",
        "test_acc_values = history_dict['val_acc']\n",
        "\n",
        "plt.plot(epochs_range, acc_values, 'bo', label='Training accuracy')\n",
        "plt.plot(epochs_range, test_acc_values, 'ro', label='Test accuracy')\n",
        "plt.title('Training and test accuracy')\n",
        "plt.xlabel('Epochs')\n",
        "plt.ylabel('Accuracy')\n",
        "plt.legend()\n",
        "plt.show()"
      ],
      "execution_count": 27,
      "outputs": [
        {
          "output_type": "stream",
          "text": [
            "Train on 60000 samples, validate on 10000 samples\n",
            "Epoch 1/10\n",
            "60000/60000 [==============================] - 1s 22us/step - loss: 0.6036 - acc: 0.8509 - val_loss: 0.3396 - val_acc: 0.9065\n",
            "Epoch 2/10\n",
            "60000/60000 [==============================] - 1s 19us/step - loss: 0.3300 - acc: 0.9083 - val_loss: 0.2978 - val_acc: 0.9157\n",
            "Epoch 3/10\n",
            "60000/60000 [==============================] - 1s 19us/step - loss: 0.3015 - acc: 0.9154 - val_loss: 0.2866 - val_acc: 0.9201\n",
            "Epoch 4/10\n",
            "60000/60000 [==============================] - 1s 19us/step - loss: 0.2884 - acc: 0.9198 - val_loss: 0.2767 - val_acc: 0.9252\n",
            "Epoch 5/10\n",
            "60000/60000 [==============================] - 1s 19us/step - loss: 0.2801 - acc: 0.9221 - val_loss: 0.2740 - val_acc: 0.9249\n",
            "Epoch 6/10\n",
            "60000/60000 [==============================] - 1s 19us/step - loss: 0.2744 - acc: 0.9240 - val_loss: 0.2734 - val_acc: 0.9241\n",
            "Epoch 7/10\n",
            "60000/60000 [==============================] - 1s 19us/step - loss: 0.2705 - acc: 0.9252 - val_loss: 0.2691 - val_acc: 0.9264\n",
            "Epoch 8/10\n",
            "60000/60000 [==============================] - 1s 19us/step - loss: 0.2671 - acc: 0.9261 - val_loss: 0.2676 - val_acc: 0.9269\n",
            "Epoch 9/10\n",
            "60000/60000 [==============================] - 1s 18us/step - loss: 0.2646 - acc: 0.9270 - val_loss: 0.2668 - val_acc: 0.9261\n",
            "Epoch 10/10\n",
            "60000/60000 [==============================] - 1s 19us/step - loss: 0.2626 - acc: 0.9279 - val_loss: 0.2662 - val_acc: 0.9269\n"
          ],
          "name": "stdout"
        },
        {
          "output_type": "display_data",
          "data": {
            "image/png": "[encoded data removed]",
            "text/plain": [
              "<Figure size 432x288 with 1 Axes>"
            ]
          },
          "metadata": {
            "tags": []
          }
        }
      ]
    },
    {
      "cell_type": "markdown",
      "metadata": {
        "id": "W05A79Qm5MCM",
        "colab_type": "text"
      },
      "source": [
        "Here, the same exact model is taken from above (a single fully connected layer), however without the additional feature added. It is seen the accuracy falls a couple percent lower than with the feature of the number of independet regions aside from the number"
      ]
    }
  ]
}