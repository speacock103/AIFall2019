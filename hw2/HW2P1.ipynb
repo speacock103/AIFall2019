{
  "nbformat": 4,
  "nbformat_minor": 0,
  "metadata": {
    "colab": {
      "name": "HW2P1.ipynb",
      "provenance": [],
      "collapsed_sections": [],
      "include_colab_link": true
    },
    "kernelspec": {
      "name": "python3",
      "display_name": "Python 3"
    }
  },
  "cells": [
    {
      "cell_type": "markdown",
      "metadata": {
        "id": "view-in-github",
        "colab_type": "text"
      },
      "source": [
        "<a href=\"https://colab.research.google.com/github/speacock103/AIFall2019/blob/master/hw2/HW2P1.ipynb\" target=\"_parent\"><img src=\"https://colab.research.google.com/assets/colab-badge.svg\" alt=\"Open In Colab\"/></a>"
      ]
    },
    {
      "cell_type": "code",
      "metadata": {
        "id": "TcVi8w9W8jrQ",
        "colab_type": "code",
        "colab": {}
      },
      "source": [
        "#imports\n",
        "from keras.datasets import mnist\n",
        "from keras.utils import to_categorical\n",
        "from keras import models\n",
        "from keras import layers\n",
        "import numpy as np\n",
        "import matplotlib.pyplot as plt"
      ],
      "execution_count": 0,
      "outputs": []
    },
    {
      "cell_type": "markdown",
      "metadata": {
        "id": "5CVHKy8yiy2x",
        "colab_type": "text"
      },
      "source": [
        "# Problem  1, Adding feature to MNIST data classification"
      ]
    },
    {
      "cell_type": "code",
      "metadata": {
        "colab_type": "code",
        "outputId": "15a0690f-eb28-4a7d-c509-92c0e26fed88",
        "id": "opW4CJ5V8dQ0",
        "colab": {
          "base_uri": "https://localhost:8080/",
          "height": 652
        }
      },
      "source": [
        "# First, the training and testing data will be loaded into variables and formated\n",
        "(train_images, train_labels), (test_images, test_labels) = mnist.load_data()\n",
        "\n",
        "train_images = train_images.reshape((60000, 28 * 28))\n",
        "train_images = train_images.astype('float32') / 255\n",
        "\n",
        "test_images = test_images.reshape((10000, 28 * 28))\n",
        "test_images = test_images.astype('float32') / 255\n",
        "\n",
        "#before categorizing the labels, we will use them to add some additional features to the input vector of each image\n",
        "#the feature I will be adding is the number of independent regions in an image besides the number. For the sake of runtime,\n",
        "#the number of regions will be hardcoded for each number, with the assumption that each written digit is well formed\n",
        "#thus the number of indepenent regions for a 0 would be 2, for a 1 would be 1, for a 2 would be 1, for a 3 would be 1,\n",
        "#for a 4 would be 1, for a 5 would be 1, for a 6 would be 2, for a 7 would be 1, for a 8 would be 3, and for a 9 would be 2\n",
        "train_images_withfeature = np.zeros((60000, 28 * 28 + 1))\n",
        "test_images_withfeature = np.zeros((10000, 28 * 28 + 1))\n",
        "for i in range(len(train_labels)):\n",
        "  if (train_labels[i] == 0 or train_labels[i] == 6 or train_labels[i] == 9):\n",
        "    num_regions = 2.0 / 3.0\n",
        "  elif (train_labels[i] == 8):\n",
        "    num_regions = 3.0 / 3.0\n",
        "  else:\n",
        "    num_regions = 1.0 / 3.0\n",
        "\n",
        "  train_images_withfeature[i] = np.concatenate((train_images[i], num_regions), axis=None)\n",
        "\n",
        "for i in range(len(test_labels)):\n",
        "  if (test_labels[i] == 0 or test_labels[i] == 6 or test_labels[i] == 9):\n",
        "    num_regions = 2.0 / 3.0\n",
        "  elif (test_labels[i] == 8):\n",
        "    num_regions = 3.0 / 3.0\n",
        "  else:\n",
        "    num_regions = 1.0 / 3.0\n",
        "\n",
        "  test_images_withfeature[i] = np.concatenate((test_images[i], num_regions), axis=None)\n",
        "\n",
        "#having used the labels to extract data, now categorize the labels\n",
        "train_labels = to_categorical(train_labels)\n",
        "test_labels = to_categorical(test_labels)\n",
        "\n",
        "#with input vectors ready, and labels ready, can now construct the model\n",
        "model = models.Sequential()\n",
        "model.add(layers.Dense(10, activation='softmax', input_shape=(28 * 28 + 1,)))\n",
        "model.compile(optimizer='rmsprop', loss='categorical_crossentropy', metrics=['accuracy'])\n",
        "\n",
        "#the model has been constructed, now fit it with data\n",
        "epochs = 10\n",
        "results = model.fit(train_images_withfeature, train_labels, epochs=epochs, batch_size=128, validation_data=(test_images_withfeature, test_labels))\n",
        "\n",
        "#view results of how the model handled data (plotting information derived form Dr. Wocjan's notebook on classifying MNIST digits)\n",
        "history_dict = results.history\n",
        "loss_values = history_dict['loss']\n",
        "test_loss_values = history_dict['val_loss']\n",
        "epochs_range = range(1, epochs + 1)\n",
        "acc_values = history_dict['acc']\n",
        "test_acc_values = history_dict['val_acc']\n",
        "\n",
        "plt.plot(epochs_range, acc_values, 'bo', label='Training accuracy')\n",
        "plt.plot(epochs_range, test_acc_values, 'ro', label='Test accuracy')\n",
        "plt.title('Training and test accuracy')\n",
        "plt.xlabel('Epochs')\n",
        "plt.ylabel('Accuracy')\n",
        "plt.legend()\n",
        "plt.show()"
      ],
      "execution_count": 5,
      "outputs": [
        {
          "output_type": "stream",
          "text": [
            "Train on 60000 samples, validate on 10000 samples\n",
            "Epoch 1/10\n",
            "60000/60000 [==============================] - 1s 24us/step - loss: 0.5939 - acc: 0.8549 - val_loss: 0.3292 - val_acc: 0.9148\n",
            "Epoch 2/10\n",
            "60000/60000 [==============================] - 1s 22us/step - loss: 0.3120 - acc: 0.9152 - val_loss: 0.2787 - val_acc: 0.9243\n",
            "Epoch 3/10\n",
            "60000/60000 [==============================] - 1s 22us/step - loss: 0.2765 - acc: 0.9237 - val_loss: 0.2570 - val_acc: 0.9313\n",
            "Epoch 4/10\n",
            "60000/60000 [==============================] - 1s 22us/step - loss: 0.2566 - acc: 0.9296 - val_loss: 0.2449 - val_acc: 0.9348\n",
            "Epoch 5/10\n",
            "60000/60000 [==============================] - 1s 22us/step - loss: 0.2432 - acc: 0.9342 - val_loss: 0.2366 - val_acc: 0.9383\n",
            "Epoch 6/10\n",
            "60000/60000 [==============================] - 1s 22us/step - loss: 0.2325 - acc: 0.9370 - val_loss: 0.2284 - val_acc: 0.9412\n",
            "Epoch 7/10\n",
            "60000/60000 [==============================] - 1s 23us/step - loss: 0.2239 - acc: 0.9398 - val_loss: 0.2213 - val_acc: 0.9438\n",
            "Epoch 8/10\n",
            "60000/60000 [==============================] - 1s 22us/step - loss: 0.2161 - acc: 0.9421 - val_loss: 0.2147 - val_acc: 0.9442\n",
            "Epoch 9/10\n",
            "60000/60000 [==============================] - 1s 22us/step - loss: 0.2100 - acc: 0.9439 - val_loss: 0.2126 - val_acc: 0.9444\n",
            "Epoch 10/10\n",
            "60000/60000 [==============================] - 1s 23us/step - loss: 0.2044 - acc: 0.9460 - val_loss: 0.2081 - val_acc: 0.9458\n"
          ],
          "name": "stdout"
        },
        {
          "output_type": "display_data",
          "data": {
            "image/png": "[encoded data removed]",
            "text/plain": [
              "<Figure size 432x288 with 1 Axes>"
            ]
          },
          "metadata": {
            "tags": []
          }
        }
      ]
    },
    {
      "cell_type": "markdown",
      "metadata": {
        "id": "5aRK_BVA3vcG",
        "colab_type": "text"
      },
      "source": [
        "As it can be seen, even though a simple model has been constructed with only one fully connected layer, just adding a single additional piece of information for each MNIST digit allowed for good training and validation accuray"
      ]
    },
    {
      "cell_type": "markdown",
      "metadata": {
        "id": "kp9wi6xI4p2M",
        "colab_type": "text"
      },
      "source": [
        "# Same model without additional feature"
      ]
    },
    {
      "cell_type": "code",
      "metadata": {
        "id": "i9FxxlGt4vaM",
        "colab_type": "code",
        "outputId": "d2256f3b-8d93-41ea-ab1a-8d2e0017c941",
        "colab": {
          "base_uri": "https://localhost:8080/",
          "height": 652
        }
      },
      "source": [
        "# First, the training and testing data will be loaded into variables and formated\n",
        "(train_images, train_labels), (test_images, test_labels) = mnist.load_data()\n",
        "\n",
        "train_images = train_images.reshape((60000, 28 * 28))\n",
        "train_images = train_images.astype('float32') / 255\n",
        "\n",
        "test_images = test_images.reshape((10000, 28 * 28))\n",
        "test_images = test_images.astype('float32') / 255\n",
        "\n",
        "train_labels = to_categorical(train_labels)\n",
        "test_labels = to_categorical(test_labels)\n",
        "\n",
        "#with input vectors ready, and labels ready, can now construct the model\n",
        "model = models.Sequential()\n",
        "model.add(layers.Dense(10, activation='softmax', input_shape=(28 * 28,)))\n",
        "model.compile(optimizer='rmsprop', loss='categorical_crossentropy', metrics=['accuracy'])\n",
        "\n",
        "#the model has been constructed, now fit it with data\n",
        "epochs = 10\n",
        "results = model.fit(train_images, train_labels, epochs=epochs, batch_size=128, validation_data=(test_images, test_labels))\n",
        "\n",
        "#view results of how the model handled data (plotting information derived form Dr. Wocjan's notebook on classifying MNIST digits)\n",
        "history_dict = results.history\n",
        "loss_values = history_dict['loss']\n",
        "test_loss_values = history_dict['val_loss']\n",
        "epochs_range = range(1, epochs + 1)\n",
        "acc_values = history_dict['acc']\n",
        "test_acc_values = history_dict['val_acc']\n",
        "\n",
        "plt.plot(epochs_range, acc_values, 'bo', label='Training accuracy')\n",
        "plt.plot(epochs_range, test_acc_values, 'ro', label='Test accuracy')\n",
        "plt.title('Training and test accuracy')\n",
        "plt.xlabel('Epochs')\n",
        "plt.ylabel('Accuracy')\n",
        "plt.legend()\n",
        "plt.show()"
      ],
      "execution_count": 6,
      "outputs": [
        {
          "output_type": "stream",
          "text": [
            "Train on 60000 samples, validate on 10000 samples\n",
            "Epoch 1/10\n",
            "60000/60000 [==============================] - 1s 23us/step - loss: 0.6124 - acc: 0.8455 - val_loss: 0.3453 - val_acc: 0.9056\n",
            "Epoch 2/10\n",
            "60000/60000 [==============================] - 1s 20us/step - loss: 0.3311 - acc: 0.9074 - val_loss: 0.3035 - val_acc: 0.9155\n",
            "Epoch 3/10\n",
            "60000/60000 [==============================] - 1s 20us/step - loss: 0.3017 - acc: 0.9155 - val_loss: 0.2887 - val_acc: 0.9190\n",
            "Epoch 4/10\n",
            "60000/60000 [==============================] - 1s 20us/step - loss: 0.2882 - acc: 0.9191 - val_loss: 0.2811 - val_acc: 0.9211\n",
            "Epoch 5/10\n",
            "60000/60000 [==============================] - 1s 19us/step - loss: 0.2799 - acc: 0.9224 - val_loss: 0.2737 - val_acc: 0.9229\n",
            "Epoch 6/10\n",
            "60000/60000 [==============================] - 1s 20us/step - loss: 0.2741 - acc: 0.9241 - val_loss: 0.2740 - val_acc: 0.9254\n",
            "Epoch 7/10\n",
            "60000/60000 [==============================] - 1s 19us/step - loss: 0.2701 - acc: 0.9250 - val_loss: 0.2690 - val_acc: 0.9255\n",
            "Epoch 8/10\n",
            "60000/60000 [==============================] - 1s 21us/step - loss: 0.2672 - acc: 0.9259 - val_loss: 0.2697 - val_acc: 0.9255\n",
            "Epoch 9/10\n",
            "60000/60000 [==============================] - 1s 20us/step - loss: 0.2647 - acc: 0.9271 - val_loss: 0.2703 - val_acc: 0.9261\n",
            "Epoch 10/10\n",
            "60000/60000 [==============================] - 1s 20us/step - loss: 0.2625 - acc: 0.9282 - val_loss: 0.2685 - val_acc: 0.9254\n"
          ],
          "name": "stdout"
        },
        {
          "output_type": "display_data",
          "data": {
            "image/png": "[encoded data removed]",
            "text/plain": [
              "<Figure size 432x288 with 1 Axes>"
            ]
          },
          "metadata": {
            "tags": []
          }
        }
      ]
    },
    {
      "cell_type": "markdown",
      "metadata": {
        "id": "W05A79Qm5MCM",
        "colab_type": "text"
      },
      "source": [
        "Here, the same exact model is taken from above (a single fully connected layer), however without the additional feature added. It is seen the accuracy falls a couple percent lower than with the feature of the number of independet regions aside from the number"
      ]
    }
  ]
}