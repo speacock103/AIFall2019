{
  "nbformat": 4,
  "nbformat_minor": 0,
  "metadata": {
    "colab": {
      "name": "HW2P3.ipynb",
      "provenance": [],
      "collapsed_sections": [],
      "include_colab_link": true
    },
    "kernelspec": {
      "name": "python3",
      "display_name": "Python 3"
    }
  },
  "cells": [
    {
      "cell_type": "markdown",
      "metadata": {
        "id": "view-in-github",
        "colab_type": "text"
      },
      "source": [
        "<a href=\"https://colab.research.google.com/github/speacock103/AIFall2019/blob/master/hw2/HW2P3.ipynb\" target=\"_parent\"><img src=\"https://colab.research.google.com/assets/colab-badge.svg\" alt=\"Open In Colab\"/></a>"
      ]
    },
    {
      "cell_type": "markdown",
      "metadata": {
        "id": "FPCxmfXEbwFN",
        "colab_type": "text"
      },
      "source": [
        "# Loading cifar10 data set and formatting data for model"
      ]
    },
    {
      "cell_type": "code",
      "metadata": {
        "id": "VVBRdzKyNWUe",
        "colab_type": "code",
        "outputId": "bc4bcc56-e7ee-462c-e398-5306bc121f4d",
        "colab": {
          "base_uri": "https://localhost:8080/",
          "height": 114
        }
      },
      "source": [
        "#imports\n",
        "from keras.datasets import cifar10\n",
        "from keras.utils import to_categorical\n",
        "from keras import models\n",
        "from keras import layers\n",
        "import numpy as np\n",
        "import matplotlib.pyplot as plt\n",
        "\n",
        "#cifar10 data\n",
        "(train_images, train_labels), (test_images, test_labels) = cifar10.load_data()\n",
        "\n",
        "#normalize data\n",
        "train_images = train_images.astype('float32') / 255\n",
        "test_images = test_images.astype('float32') / 255\n",
        "\n",
        "#categorize labels\n",
        "train_labels = to_categorical(train_labels)\n",
        "test_labels = to_categorical(test_labels)"
      ],
      "execution_count": 0,
      "outputs": [
        {
          "output_type": "stream",
          "text": [
            "Using TensorFlow backend.\n"
          ],
          "name": "stderr"
        },
        {
          "output_type": "display_data",
          "data": {
            "text/html": [
              "<p style=\"color: red;\">\n",
              "The default version of TensorFlow in Colab will soon switch to TensorFlow 2.x.<br>\n",
              "We recommend you <a href=\"https://www.tensorflow.org/guide/migrate\" target=\"_blank\">upgrade</a> now \n",
              "or ensure your notebook will continue to use TensorFlow 1.x via the <code>%tensorflow_version 1.x</code> magic:\n",
              "<a href=\"https://colab.research.google.com/notebooks/tensorflow_version.ipynb\" target=\"_blank\">more info</a>.</p>\n"
            ],
            "text/plain": [
              "<IPython.core.display.HTML object>"
            ]
          },
          "metadata": {
            "tags": []
          }
        },
        {
          "output_type": "stream",
          "text": [
            "Downloading data from https://www.cs.toronto.edu/~kriz/cifar-10-python.tar.gz\n",
            "170500096/170498071 [==============================] - 12s 0us/step\n"
          ],
          "name": "stdout"
        }
      ]
    },
    {
      "cell_type": "markdown",
      "metadata": {
        "id": "yhkMHMNcPEkv",
        "colab_type": "text"
      },
      "source": [
        "# Model to Underfit cifar10 data"
      ]
    },
    {
      "cell_type": "code",
      "metadata": {
        "id": "s1bVlNjFPKT_",
        "colab_type": "code",
        "outputId": "975231cf-3abd-4b00-ae22-79ede3a87714",
        "colab": {
          "base_uri": "https://localhost:8080/",
          "height": 1000
        }
      },
      "source": [
        "#use only portion of training data, with less training data model has less room to learn, could produce underfitting\n",
        "train_images_less = np.zeros((10000, 32 , 32, 3))\n",
        "train_labels_less = np.zeros((10000, 10))\n",
        "i = 0\n",
        "j = 0\n",
        "while (i < 50000):\n",
        "  train_images_less[j] = train_images[i]\n",
        "  train_labels_less[j] = train_labels[i]\n",
        "  i = i + 5\n",
        "  j = j + 1\n",
        "\n",
        "#instantiate model\n",
        "underfit = models.Sequential()\n",
        "\n",
        "#add layers. in attempt to underfit, using simple model with few convulutional nodes\n",
        "underfit.add(layers.Conv2D(16, (3,3), activation='relu', input_shape=(32, 32, 3)))\n",
        "underfit.add(layers.MaxPooling2D((2, 2)))\n",
        "underfit.add(layers.Conv2D(32, (3,3), activation='relu'))\n",
        "underfit.add(layers.MaxPooling2D((2, 2)))\n",
        "underfit.add(layers.Flatten())\n",
        "underfit.add(layers.Dense(28, activation='relu'))\n",
        "underfit.add(layers.Dropout(.4))\n",
        "underfit.add(layers.Dense(10, activation='softmax'))\n",
        "\n",
        "#compile model\n",
        "underfit.compile(optimizer='adam', loss='categorical_crossentropy', metrics=['accuracy'])\n",
        "epochs = 10\n",
        "\n",
        "#store resuls of model fitting to view graphically\n",
        "results_underfit = underfit.fit(train_images_less, train_labels_less, epochs=epochs, batch_size = 64, validation_data=(test_images, test_labels))\n",
        "\n",
        "underfit.summary()\n",
        "\n",
        "#view results of how the model handled data (plotting information derived form Dr. Wocjan's notebook on classifying MNIST digits)\n",
        "history_dict = results_underfit.history\n",
        "loss_values = history_dict['loss']\n",
        "test_loss_values = history_dict['val_loss']\n",
        "epochs_range = range(1, epochs + 1)\n",
        "acc_values = history_dict['acc']\n",
        "test_acc_values = history_dict['val_acc']\n",
        "\n",
        "plt.plot(epochs_range, loss_values, 'bo', label='Training loss')\n",
        "plt.plot(epochs_range, test_loss_values, 'ro', label='Test loss')\n",
        "plt.title('Training and test loss')\n",
        "plt.xlabel('Epochs')\n",
        "plt.ylabel('Loss')\n",
        "plt.legend()\n",
        "plt.show()\n",
        "\n",
        "plt.plot(epochs_range, acc_values, 'bo', label='Training accuracy')\n",
        "plt.plot(epochs_range, test_acc_values, 'ro', label='Test accuracy')\n",
        "plt.title('Training and test accuracy')\n",
        "plt.xlabel('Epochs')\n",
        "plt.ylabel('Accuracy')\n",
        "plt.legend()\n",
        "plt.show()"
      ],
      "execution_count": 5,
      "outputs": [
        {
          "output_type": "stream",
          "text": [
            "Train on 10000 samples, validate on 10000 samples\n",
            "Epoch 1/10\n",
            "10000/10000 [==============================] - 9s 940us/step - loss: 2.2107 - acc: 0.1602 - val_loss: 2.0105 - val_acc: 0.2337\n",
            "Epoch 2/10\n",
            "10000/10000 [==============================] - 9s 864us/step - loss: 1.9942 - acc: 0.2442 - val_loss: 1.8063 - val_acc: 0.3594\n",
            "Epoch 3/10\n",
            "10000/10000 [==============================] - 9s 859us/step - loss: 1.8672 - acc: 0.2890 - val_loss: 1.7124 - val_acc: 0.3897\n",
            "Epoch 4/10\n",
            "10000/10000 [==============================] - 9s 863us/step - loss: 1.7819 - acc: 0.3223 - val_loss: 1.6508 - val_acc: 0.4201\n",
            "Epoch 5/10\n",
            "10000/10000 [==============================] - 9s 865us/step - loss: 1.7307 - acc: 0.3452 - val_loss: 1.5696 - val_acc: 0.4285\n",
            "Epoch 6/10\n",
            "10000/10000 [==============================] - 9s 853us/step - loss: 1.6938 - acc: 0.3593 - val_loss: 1.5751 - val_acc: 0.4425\n",
            "Epoch 7/10\n",
            "10000/10000 [==============================] - 9s 865us/step - loss: 1.6698 - acc: 0.3702 - val_loss: 1.5660 - val_acc: 0.4522\n",
            "Epoch 8/10\n",
            "10000/10000 [==============================] - 9s 869us/step - loss: 1.6320 - acc: 0.3701 - val_loss: 1.5008 - val_acc: 0.4668\n",
            "Epoch 9/10\n",
            "10000/10000 [==============================] - 9s 874us/step - loss: 1.6261 - acc: 0.3882 - val_loss: 1.4906 - val_acc: 0.4807\n",
            "Epoch 10/10\n",
            "10000/10000 [==============================] - 9s 870us/step - loss: 1.6011 - acc: 0.3931 - val_loss: 1.4516 - val_acc: 0.4812\n",
            "Model: \"sequential_4\"\n",
            "_________________________________________________________________\n",
            "Layer (type)                 Output Shape              Param #   \n",
            "=================================================================\n",
            "conv2d_7 (Conv2D)            (None, 30, 30, 16)        448       \n",
            "_________________________________________________________________\n",
            "max_pooling2d_5 (MaxPooling2 (None, 15, 15, 16)        0         \n",
            "_________________________________________________________________\n",
            "conv2d_8 (Conv2D)            (None, 13, 13, 32)        4640      \n",
            "_________________________________________________________________\n",
            "max_pooling2d_6 (MaxPooling2 (None, 6, 6, 32)          0         \n",
            "_________________________________________________________________\n",
            "flatten_4 (Flatten)          (None, 1152)              0         \n",
            "_________________________________________________________________\n",
            "dense_7 (Dense)              (None, 28)                32284     \n",
            "_________________________________________________________________\n",
            "dropout_3 (Dropout)          (None, 28)                0         \n",
            "_________________________________________________________________\n",
            "dense_8 (Dense)              (None, 10)                290       \n",
            "=================================================================\n",
            "Total params: 37,662\n",
            "Trainable params: 37,662\n",
            "Non-trainable params: 0\n",
            "_________________________________________________________________\n"
          ],
          "name": "stdout"
        },
        {
          "output_type": "display_data",
          "data": {
            "image/png": "[encoded data removed]",
            "text/plain": [
              "<Figure size 432x288 with 1 Axes>"
            ]
          },
          "metadata": {
            "tags": []
          }
        },
        {
          "output_type": "display_data",
          "data": {
            "image/png": "[encoded data removed]",
            "text/plain": [
              "<Figure size 432x288 with 1 Axes>"
            ]
          },
          "metadata": {
            "tags": []
          }
        }
      ]
    },
    {
      "cell_type": "markdown",
      "metadata": {
        "id": "QJRgvAfNocMo",
        "colab_type": "text"
      },
      "source": [
        "In the graph, we see that the training data maintains a higher loss and lower accuracy than the testing data. The model is underfitting"
      ]
    },
    {
      "cell_type": "markdown",
      "metadata": {
        "id": "ipOcOqeTkG2S",
        "colab_type": "text"
      },
      "source": [
        "# Model to Overfit cifar10 data set"
      ]
    },
    {
      "cell_type": "code",
      "metadata": {
        "id": "UoHA_-vMkNVx",
        "colab_type": "code",
        "outputId": "8f780260-f6e0-48af-996a-369a9b13c213",
        "colab": {
          "base_uri": "https://localhost:8080/",
          "height": 1000
        }
      },
      "source": [
        "#instantiate model\n",
        "overfit = models.Sequential()\n",
        "\n",
        "#add layers to model\n",
        "#in attempt to overfit, use large amount of nodes and no maxpooling or dropout of data between layers\n",
        "overfit.add(layers.Conv2D(64, (3,3), activation='relu', input_shape=(32, 32, 3)))\n",
        "overfit.add(layers.Conv2D(32, (3,3), activation='relu'))\n",
        "overfit.add(layers.Flatten())\n",
        "overfit.add(layers.Dense(64, activation='relu'))\n",
        "overfit.add(layers.Dense(10, activation='softmax'))\n",
        "\n",
        "#compile model\n",
        "overfit.compile(optimizer='adam', loss='categorical_crossentropy', metrics=['accuracy'])\n",
        "epochs = 15\n",
        "\n",
        "#store results of fitting model with data to view graphically\n",
        "results_overfit = overfit.fit(train_images, train_labels, epochs=epochs, batch_size = 128, validation_data=(test_images, test_labels))\n",
        "\n",
        "#view results of how the model handled data (plotting information derived form Dr. Wocjan's notebook on classifying MNIST digits)\n",
        "history_dict = results_overfit.history\n",
        "loss_values = history_dict['loss']\n",
        "test_loss_values = history_dict['val_loss']\n",
        "epochs_range = range(1, epochs + 1)\n",
        "acc_values = history_dict['acc']\n",
        "test_acc_values = history_dict['val_acc']\n",
        "\n",
        "plt.plot(epochs_range, loss_values, 'bo', label='Training loss')\n",
        "plt.plot(epochs_range, test_loss_values, 'ro', label='Test loss')\n",
        "plt.title('Training and test loss')\n",
        "plt.xlabel('Epochs')\n",
        "plt.ylabel('Loss')\n",
        "plt.legend()\n",
        "plt.show()\n",
        "\n",
        "plt.plot(epochs_range, acc_values, 'bo', label='Training accuracy')\n",
        "plt.plot(epochs_range, test_acc_values, 'ro', label='Test accuracy')\n",
        "plt.title('Training and test accuracy')\n",
        "plt.xlabel('Epochs')\n",
        "plt.ylabel('Accuracy')\n",
        "plt.legend()\n",
        "plt.show()"
      ],
      "execution_count": 0,
      "outputs": [
        {
          "output_type": "stream",
          "text": [
            "WARNING:tensorflow:From /usr/local/lib/python3.6/dist-packages/keras/backend/tensorflow_backend.py:66: The name tf.get_default_graph is deprecated. Please use tf.compat.v1.get_default_graph instead.\n",
            "\n",
            "WARNING:tensorflow:From /usr/local/lib/python3.6/dist-packages/keras/backend/tensorflow_backend.py:541: The name tf.placeholder is deprecated. Please use tf.compat.v1.placeholder instead.\n",
            "\n",
            "WARNING:tensorflow:From /usr/local/lib/python3.6/dist-packages/keras/backend/tensorflow_backend.py:4432: The name tf.random_uniform is deprecated. Please use tf.random.uniform instead.\n",
            "\n",
            "WARNING:tensorflow:From /usr/local/lib/python3.6/dist-packages/keras/optimizers.py:793: The name tf.train.Optimizer is deprecated. Please use tf.compat.v1.train.Optimizer instead.\n",
            "\n",
            "WARNING:tensorflow:From /usr/local/lib/python3.6/dist-packages/keras/backend/tensorflow_backend.py:3576: The name tf.log is deprecated. Please use tf.math.log instead.\n",
            "\n",
            "WARNING:tensorflow:From /usr/local/lib/python3.6/dist-packages/tensorflow_core/python/ops/math_grad.py:1424: where (from tensorflow.python.ops.array_ops) is deprecated and will be removed in a future version.\n",
            "Instructions for updating:\n",
            "Use tf.where in 2.0, which has the same broadcast rule as np.where\n",
            "WARNING:tensorflow:From /usr/local/lib/python3.6/dist-packages/keras/backend/tensorflow_backend.py:1033: The name tf.assign_add is deprecated. Please use tf.compat.v1.assign_add instead.\n",
            "\n",
            "WARNING:tensorflow:From /usr/local/lib/python3.6/dist-packages/keras/backend/tensorflow_backend.py:1020: The name tf.assign is deprecated. Please use tf.compat.v1.assign instead.\n",
            "\n",
            "WARNING:tensorflow:From /usr/local/lib/python3.6/dist-packages/keras/backend/tensorflow_backend.py:3005: The name tf.Session is deprecated. Please use tf.compat.v1.Session instead.\n",
            "\n",
            "Train on 50000 samples, validate on 10000 samples\n",
            "Epoch 1/15\n",
            "WARNING:tensorflow:From /usr/local/lib/python3.6/dist-packages/keras/backend/tensorflow_backend.py:190: The name tf.get_default_session is deprecated. Please use tf.compat.v1.get_default_session instead.\n",
            "\n",
            "WARNING:tensorflow:From /usr/local/lib/python3.6/dist-packages/keras/backend/tensorflow_backend.py:197: The name tf.ConfigProto is deprecated. Please use tf.compat.v1.ConfigProto instead.\n",
            "\n",
            "WARNING:tensorflow:From /usr/local/lib/python3.6/dist-packages/keras/backend/tensorflow_backend.py:207: The name tf.global_variables is deprecated. Please use tf.compat.v1.global_variables instead.\n",
            "\n",
            "WARNING:tensorflow:From /usr/local/lib/python3.6/dist-packages/keras/backend/tensorflow_backend.py:216: The name tf.is_variable_initialized is deprecated. Please use tf.compat.v1.is_variable_initialized instead.\n",
            "\n",
            "WARNING:tensorflow:From /usr/local/lib/python3.6/dist-packages/keras/backend/tensorflow_backend.py:223: The name tf.variables_initializer is deprecated. Please use tf.compat.v1.variables_initializer instead.\n",
            "\n",
            "50000/50000 [==============================] - 202s 4ms/step - loss: 1.5995 - acc: 0.4245 - val_loss: 1.3789 - val_acc: 0.5156\n",
            "Epoch 2/15\n",
            "50000/50000 [==============================] - 203s 4ms/step - loss: 1.2742 - acc: 0.5487 - val_loss: 1.2835 - val_acc: 0.5491\n",
            "Epoch 3/15\n",
            "50000/50000 [==============================] - 200s 4ms/step - loss: 1.1248 - acc: 0.6030 - val_loss: 1.1624 - val_acc: 0.5940\n",
            "Epoch 4/15\n",
            "50000/50000 [==============================] - 199s 4ms/step - loss: 1.0091 - acc: 0.6470 - val_loss: 1.1184 - val_acc: 0.6119\n",
            "Epoch 5/15\n",
            "50000/50000 [==============================] - 199s 4ms/step - loss: 0.9279 - acc: 0.6752 - val_loss: 1.1081 - val_acc: 0.6150\n",
            "Epoch 6/15\n",
            "50000/50000 [==============================] - 199s 4ms/step - loss: 0.8514 - acc: 0.7030 - val_loss: 1.0806 - val_acc: 0.6297\n",
            "Epoch 7/15\n",
            "50000/50000 [==============================] - 199s 4ms/step - loss: 0.7851 - acc: 0.7277 - val_loss: 1.0801 - val_acc: 0.6347\n",
            "Epoch 8/15\n",
            "50000/50000 [==============================] - 198s 4ms/step - loss: 0.7162 - acc: 0.7519 - val_loss: 1.0893 - val_acc: 0.6374\n",
            "Epoch 9/15\n",
            "50000/50000 [==============================] - 198s 4ms/step - loss: 0.6325 - acc: 0.7803 - val_loss: 1.1425 - val_acc: 0.6365\n",
            "Epoch 10/15\n",
            "50000/50000 [==============================] - 199s 4ms/step - loss: 0.5570 - acc: 0.8069 - val_loss: 1.1879 - val_acc: 0.6328\n",
            "Epoch 11/15\n",
            "50000/50000 [==============================] - 199s 4ms/step - loss: 0.4785 - acc: 0.8326 - val_loss: 1.2561 - val_acc: 0.6296\n",
            "Epoch 12/15\n",
            "50000/50000 [==============================] - 199s 4ms/step - loss: 0.4059 - acc: 0.8608 - val_loss: 1.4143 - val_acc: 0.6135\n",
            "Epoch 13/15\n",
            "50000/50000 [==============================] - 199s 4ms/step - loss: 0.3375 - acc: 0.8865 - val_loss: 1.5645 - val_acc: 0.6119\n",
            "Epoch 14/15\n",
            "50000/50000 [==============================] - 200s 4ms/step - loss: 0.2806 - acc: 0.9068 - val_loss: 1.6581 - val_acc: 0.6086\n",
            "Epoch 15/15\n",
            "50000/50000 [==============================] - 202s 4ms/step - loss: 0.2262 - acc: 0.9236 - val_loss: 1.8289 - val_acc: 0.6050\n"
          ],
          "name": "stdout"
        },
        {
          "output_type": "display_data",
          "data": {
            "image/png": "[encoded data removed]",
            "text/plain": [
              "<Figure size 432x288 with 1 Axes>"
            ]
          },
          "metadata": {
            "tags": []
          }
        },
        {
          "output_type": "display_data",
          "data": {
            "image/png": "[encoded data removed]",
            "text/plain": [
              "<Figure size 432x288 with 1 Axes>"
            ]
          },
          "metadata": {
            "tags": []
          }
        }
      ]
    },
    {
      "cell_type": "markdown",
      "metadata": {
        "id": "tf2H2DJdsNk9",
        "colab_type": "text"
      },
      "source": [
        "In the graph, after about epoch 6, we can see a noticeable difference forming between the training data and the validation data. The model is forming more to the training data, and there is a peak in how low the loss and how high the accuracy gets for the validation data. The difference grows very large by epoch 10"
      ]
    },
    {
      "cell_type": "markdown",
      "metadata": {
        "id": "c6bMNK77mJLU",
        "colab_type": "text"
      },
      "source": [
        "# Attempt to make a well fitted model for cifar10 data set"
      ]
    },
    {
      "cell_type": "code",
      "metadata": {
        "id": "Tyu2YfL_mN-M",
        "colab_type": "code",
        "colab": {
          "base_uri": "https://localhost:8080/",
          "height": 1000
        },
        "outputId": "2d835461-fd2c-4b28-b091-4b3f7eae3d54"
      },
      "source": [
        "#instantiate model\n",
        "model = models.Sequential()\n",
        "\n",
        "#add layers to model\n",
        "#to attempt a good fitting, vary nodes amount and utilize max pooling with convulutional layers\n",
        "#with the dense layers use dropout\n",
        "model.add(layers.Conv2D(64, (3,3), activation='relu', input_shape=(32, 32, 3)))\n",
        "model.add(layers.MaxPooling2D((2, 2)))\n",
        "model.add(layers.Conv2D(32, (3,3), activation='relu'))\n",
        "model.add(layers.MaxPooling2D((2, 2)))\n",
        "model.add(layers.Flatten())\n",
        "model.add(layers.Dense(32, activation='relu'))\n",
        "model.add(layers.Dense(10, activation='softmax'))\n",
        "\n",
        "#compile model\n",
        "model.compile(optimizer='adam', loss='categorical_crossentropy', metrics=['accuracy'])\n",
        "epochs = 15\n",
        "\n",
        "#store results of model fitting to view graphically\n",
        "results_model = model.fit(train_images, train_labels, epochs=epochs, batch_size = 520, validation_data=(test_images, test_labels))\n",
        "\n",
        "#view results of how the model handled data (plotting information derived form Dr. Wocjan's notebook on classifying MNIST digits)\n",
        "history_dict = results_model.history\n",
        "loss_values = history_dict['loss']\n",
        "test_loss_values = history_dict['val_loss']\n",
        "epochs_range = range(1, epochs + 1)\n",
        "acc_values = history_dict['acc']\n",
        "test_acc_values = history_dict['val_acc']\n",
        "\n",
        "plt.plot(epochs_range, loss_values, 'bo', label='Training loss')\n",
        "plt.plot(epochs_range, test_loss_values, 'ro', label='Test loss')\n",
        "plt.title('Training and test loss')\n",
        "plt.xlabel('Epochs')\n",
        "plt.ylabel('Loss')\n",
        "plt.legend()\n",
        "plt.show()\n",
        "\n",
        "plt.plot(epochs_range, acc_values, 'bo', label='Training accuracy')\n",
        "plt.plot(epochs_range, test_acc_values, 'ro', label='Test accuracy')\n",
        "plt.title('Training and test accuracy')\n",
        "plt.xlabel('Epochs')\n",
        "plt.ylabel('Accuracy')\n",
        "plt.legend()\n",
        "plt.show()"
      ],
      "execution_count": 12,
      "outputs": [
        {
          "output_type": "stream",
          "text": [
            "Train on 50000 samples, validate on 10000 samples\n",
            "Epoch 1/15\n",
            "50000/50000 [==============================] - 79s 2ms/step - loss: 1.9026 - acc: 0.3142 - val_loss: 1.6776 - val_acc: 0.3910\n",
            "Epoch 2/15\n",
            "50000/50000 [==============================] - 77s 2ms/step - loss: 1.5453 - acc: 0.4458 - val_loss: 1.4729 - val_acc: 0.4805\n",
            "Epoch 3/15\n",
            "50000/50000 [==============================] - 77s 2ms/step - loss: 1.4233 - acc: 0.4930 - val_loss: 1.4073 - val_acc: 0.4959\n",
            "Epoch 4/15\n",
            "50000/50000 [==============================] - 77s 2ms/step - loss: 1.3556 - acc: 0.5208 - val_loss: 1.3403 - val_acc: 0.5229\n",
            "Epoch 5/15\n",
            "50000/50000 [==============================] - 77s 2ms/step - loss: 1.3040 - acc: 0.5396 - val_loss: 1.3234 - val_acc: 0.5310\n",
            "Epoch 6/15\n",
            "50000/50000 [==============================] - 77s 2ms/step - loss: 1.2570 - acc: 0.5570 - val_loss: 1.3660 - val_acc: 0.5084\n",
            "Epoch 7/15\n",
            "50000/50000 [==============================] - 77s 2ms/step - loss: 1.2242 - acc: 0.5732 - val_loss: 1.2366 - val_acc: 0.5659\n",
            "Epoch 8/15\n",
            "50000/50000 [==============================] - 77s 2ms/step - loss: 1.1767 - acc: 0.5875 - val_loss: 1.2043 - val_acc: 0.5755\n",
            "Epoch 9/15\n",
            "50000/50000 [==============================] - 77s 2ms/step - loss: 1.1493 - acc: 0.5962 - val_loss: 1.1650 - val_acc: 0.5944\n",
            "Epoch 10/15\n",
            "50000/50000 [==============================] - 76s 2ms/step - loss: 1.1240 - acc: 0.6071 - val_loss: 1.1887 - val_acc: 0.5900\n",
            "Epoch 11/15\n",
            "50000/50000 [==============================] - 77s 2ms/step - loss: 1.1013 - acc: 0.6179 - val_loss: 1.1155 - val_acc: 0.6103\n",
            "Epoch 12/15\n",
            "50000/50000 [==============================] - 75s 1ms/step - loss: 1.0822 - acc: 0.6240 - val_loss: 1.1372 - val_acc: 0.6048\n",
            "Epoch 13/15\n",
            "50000/50000 [==============================] - 73s 1ms/step - loss: 1.0546 - acc: 0.6338 - val_loss: 1.0838 - val_acc: 0.6243\n",
            "Epoch 14/15\n",
            "50000/50000 [==============================] - 73s 1ms/step - loss: 1.0300 - acc: 0.6434 - val_loss: 1.0731 - val_acc: 0.6277\n",
            "Epoch 15/15\n",
            "50000/50000 [==============================] - 73s 1ms/step - loss: 1.0103 - acc: 0.6499 - val_loss: 1.0462 - val_acc: 0.6410\n"
          ],
          "name": "stdout"
        },
        {
          "output_type": "display_data",
          "data": {
            "image/png": "[encoded data removed]",
            "text/plain": [
              "<Figure size 432x288 with 1 Axes>"
            ]
          },
          "metadata": {
            "tags": []
          }
        },
        {
          "output_type": "display_data",
          "data": {
            "image/png": "[encoded data removed]",
            "text/plain": [
              "<Figure size 432x288 with 1 Axes>"
            ]
          },
          "metadata": {
            "tags": []
          }
        }
      ]
    },
    {
      "cell_type": "markdown",
      "metadata": {
        "id": "XKWEJi-QbTAg",
        "colab_type": "text"
      },
      "source": [
        "In the graphs, we see both sets of data fall relatively close to one another. The model is following a good fit, however the accuracy and loss could be improved upon. This could be done through more epochs and messing around some with the hidden layers."
      ]
    }
  ]
}